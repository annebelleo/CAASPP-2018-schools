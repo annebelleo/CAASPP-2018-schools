{
 "cells": [
  {
   "cell_type": "markdown",
   "metadata": {},
   "source": [
    "# 2018 CAASPP Scores\n",
    "\n",
    "Welcome to my exploration of test scores from the 2018 CAASPP testing season! Since I, too, had to take this assessment at some point in high school, I want to make use of the data and see how the scores compare between schools - specifically, between public and charter schools. Hopefully, this will give us information on how students in schools with different structures of education systems perform."
   ]
  },
  {
   "cell_type": "markdown",
   "metadata": {},
   "source": [
    "I will be referring to certain columns in the data that aren't clear-cut, so the definitions of each column can be found [here](#https://caaspp.cde.ca.gov/sb2018/research_fixfileformat18)."
   ]
  },
  {
   "cell_type": "markdown",
   "metadata": {},
   "source": [
    "Since we'll be working with dataframes, we need to import the pandas library in order to create and manipulate dataframes based on our csv files.\n",
    "We're also going to be looking at statistics of the scores, so we'll need the numpy library to determine statistical values."
   ]
  },
  {
   "cell_type": "markdown",
   "metadata": {},
   "source": [
    "We will import the StatsModels library for doing statistics in Python, and matplotlib and seaborn are for visualizations of our data towards the end."
   ]
  },
  {
   "cell_type": "code",
   "execution_count": 1,
   "metadata": {},
   "outputs": [],
   "source": [
    "import pandas as pd\n",
    "import numpy as np \n",
    "\n",
    "import statsmodels.api as sm\n",
    "\n",
    "import matplotlib.pyplot as plt\n",
    "import seaborn as sns"
   ]
  },
  {
   "cell_type": "markdown",
   "metadata": {},
   "source": [
    "Now we can open our csv files as dataframes."
   ]
  },
  {
   "cell_type": "code",
   "execution_count": 2,
   "metadata": {},
   "outputs": [],
   "source": [
    "file = pd.read_csv(\"2018/comma_delimited/csv.txt\", delimiter=\",\", sep=\" \")\n",
    "file_info = pd.read_csv(\"2018/comma_delimited/csv_entities.txt\", delimiter=\",\", sep=\" \", encoding='latin-1')"
   ]
  },
  {
   "cell_type": "markdown",
   "metadata": {},
   "source": [
    "Since our data has a lot of extraneous information that we don't need, we're going to do some cleaning of the data by removing unnecessary columns and sorting by relevant attributes - School Code (in order to merge the data and its entities), Grade, and Test ID (type of assessment).\n",
    "\n",
    "One thing you will notice that I also removed Area Percentages. These areas are described [here](#https://caaspp.cde.ca.gov/sb2018/UnderstandingCAASPPReports) and are much more specific in performance per school, so since we want to generalize performance between schools, we will ignore this data."
   ]
  },
  {
   "cell_type": "code",
   "execution_count": 3,
   "metadata": {},
   "outputs": [
    {
     "data": {
      "text/html": [
       "<div>\n",
       "<style scoped>\n",
       "    .dataframe tbody tr th:only-of-type {\n",
       "        vertical-align: middle;\n",
       "    }\n",
       "\n",
       "    .dataframe tbody tr th {\n",
       "        vertical-align: top;\n",
       "    }\n",
       "\n",
       "    .dataframe thead th {\n",
       "        text-align: right;\n",
       "    }\n",
       "</style>\n",
       "<table border=\"1\" class=\"dataframe\">\n",
       "  <thead>\n",
       "    <tr style=\"text-align: right;\">\n",
       "      <th></th>\n",
       "      <th>index</th>\n",
       "      <th>School Code</th>\n",
       "      <th>Type Id</th>\n",
       "      <th>County Name</th>\n",
       "      <th>District Name</th>\n",
       "      <th>School Name</th>\n",
       "      <th>Zip Code</th>\n",
       "    </tr>\n",
       "  </thead>\n",
       "  <tbody>\n",
       "    <tr>\n",
       "      <th>0</th>\n",
       "      <td>4473</td>\n",
       "      <td>100016</td>\n",
       "      <td>9</td>\n",
       "      <td>Madera</td>\n",
       "      <td>Sherman Thomas Charter</td>\n",
       "      <td>Sherman Thomas Charter</td>\n",
       "      <td>93638</td>\n",
       "    </tr>\n",
       "    <tr>\n",
       "      <th>1</th>\n",
       "      <td>934</td>\n",
       "      <td>100024</td>\n",
       "      <td>7</td>\n",
       "      <td>El Dorado</td>\n",
       "      <td>Buckeye Union Elementary</td>\n",
       "      <td>Oak Meadow Elementary</td>\n",
       "      <td>95762</td>\n",
       "    </tr>\n",
       "    <tr>\n",
       "      <th>2</th>\n",
       "      <td>6637</td>\n",
       "      <td>100040</td>\n",
       "      <td>7</td>\n",
       "      <td>Sacramento</td>\n",
       "      <td>Galt Joint Union Elementary</td>\n",
       "      <td>Robert L. Mccaffrey Middle</td>\n",
       "      <td>95632</td>\n",
       "    </tr>\n",
       "    <tr>\n",
       "      <th>3</th>\n",
       "      <td>5972</td>\n",
       "      <td>100057</td>\n",
       "      <td>7</td>\n",
       "      <td>Plumas</td>\n",
       "      <td>Plumas County Office Of Education</td>\n",
       "      <td>Plumas County Community</td>\n",
       "      <td>95971</td>\n",
       "    </tr>\n",
       "    <tr>\n",
       "      <th>4</th>\n",
       "      <td>221</td>\n",
       "      <td>100065</td>\n",
       "      <td>9</td>\n",
       "      <td>Alameda</td>\n",
       "      <td>Oakland Unity High</td>\n",
       "      <td>Oakland Unity High</td>\n",
       "      <td>94605</td>\n",
       "    </tr>\n",
       "  </tbody>\n",
       "</table>\n",
       "</div>"
      ],
      "text/plain": [
       "   index  School Code  Type Id County Name                      District Name  \\\n",
       "0   4473       100016        9      Madera             Sherman Thomas Charter   \n",
       "1    934       100024        7   El Dorado           Buckeye Union Elementary   \n",
       "2   6637       100040        7  Sacramento        Galt Joint Union Elementary   \n",
       "3   5972       100057        7      Plumas  Plumas County Office Of Education   \n",
       "4    221       100065        9     Alameda                 Oakland Unity High   \n",
       "\n",
       "                  School Name Zip Code  \n",
       "0      Sherman Thomas Charter    93638  \n",
       "1       Oak Meadow Elementary    95762  \n",
       "2  Robert L. Mccaffrey Middle    95632  \n",
       "3     Plumas County Community    95971  \n",
       "4          Oakland Unity High    94605  "
      ]
     },
     "execution_count": 3,
     "metadata": {},
     "output_type": "execute_result"
    }
   ],
   "source": [
    "file_info = file_info.drop('Filler', axis=1)\n",
    "file_info = file_info.drop([\"County Code\", \"District Code\", \"Test Year\"], axis=1)\n",
    "file_info = file_info[file_info[\"School Code\"] != 0]\n",
    "file_info = file_info.dropna()\n",
    "file_info = file_info.sort_values(by=\"School Code\")\n",
    "file_info = file_info.reset_index()\n",
    "file_info.head()"
   ]
  },
  {
   "cell_type": "code",
   "execution_count": 4,
   "metadata": {},
   "outputs": [
    {
     "data": {
      "text/html": [
       "<div>\n",
       "<style scoped>\n",
       "    .dataframe tbody tr th:only-of-type {\n",
       "        vertical-align: middle;\n",
       "    }\n",
       "\n",
       "    .dataframe tbody tr th {\n",
       "        vertical-align: top;\n",
       "    }\n",
       "\n",
       "    .dataframe thead th {\n",
       "        text-align: right;\n",
       "    }\n",
       "</style>\n",
       "<table border=\"1\" class=\"dataframe\">\n",
       "  <thead>\n",
       "    <tr style=\"text-align: right;\">\n",
       "      <th></th>\n",
       "      <th>index</th>\n",
       "      <th>School Code</th>\n",
       "      <th>Test Type</th>\n",
       "      <th>Total Tested At Entity Level</th>\n",
       "      <th>Total Tested with Scores</th>\n",
       "      <th>Grade</th>\n",
       "      <th>Test Id</th>\n",
       "      <th>CAASPP Reported Enrollment</th>\n",
       "      <th>Students Tested</th>\n",
       "      <th>Mean Scale Score</th>\n",
       "      <th>Percentage Standard Exceeded</th>\n",
       "      <th>Percentage Standard Met</th>\n",
       "      <th>Percentage Standard Met and Above</th>\n",
       "      <th>Percentage Standard Nearly Met</th>\n",
       "      <th>Percentage Standard Not Met</th>\n",
       "      <th>Students with Scores</th>\n",
       "    </tr>\n",
       "  </thead>\n",
       "  <tbody>\n",
       "    <tr>\n",
       "      <th>0</th>\n",
       "      <td>39065</td>\n",
       "      <td>100016</td>\n",
       "      <td>B</td>\n",
       "      <td>139</td>\n",
       "      <td>139</td>\n",
       "      <td>3</td>\n",
       "      <td>1</td>\n",
       "      <td>22</td>\n",
       "      <td>22</td>\n",
       "      <td>2432.6</td>\n",
       "      <td>9.09</td>\n",
       "      <td>54.55</td>\n",
       "      <td>63.64</td>\n",
       "      <td>13.64</td>\n",
       "      <td>22.73</td>\n",
       "      <td>22</td>\n",
       "    </tr>\n",
       "    <tr>\n",
       "      <th>1</th>\n",
       "      <td>39066</td>\n",
       "      <td>100016</td>\n",
       "      <td>B</td>\n",
       "      <td>139</td>\n",
       "      <td>139</td>\n",
       "      <td>3</td>\n",
       "      <td>2</td>\n",
       "      <td>22</td>\n",
       "      <td>22</td>\n",
       "      <td>2412.2</td>\n",
       "      <td>13.64</td>\n",
       "      <td>18.18</td>\n",
       "      <td>31.82</td>\n",
       "      <td>36.36</td>\n",
       "      <td>31.82</td>\n",
       "      <td>22</td>\n",
       "    </tr>\n",
       "    <tr>\n",
       "      <th>2</th>\n",
       "      <td>39067</td>\n",
       "      <td>100016</td>\n",
       "      <td>B</td>\n",
       "      <td>139</td>\n",
       "      <td>139</td>\n",
       "      <td>4</td>\n",
       "      <td>1</td>\n",
       "      <td>28</td>\n",
       "      <td>27</td>\n",
       "      <td>2466.8</td>\n",
       "      <td>25.93</td>\n",
       "      <td>22.22</td>\n",
       "      <td>48.15</td>\n",
       "      <td>14.81</td>\n",
       "      <td>37.04</td>\n",
       "      <td>27</td>\n",
       "    </tr>\n",
       "    <tr>\n",
       "      <th>3</th>\n",
       "      <td>39068</td>\n",
       "      <td>100016</td>\n",
       "      <td>B</td>\n",
       "      <td>139</td>\n",
       "      <td>139</td>\n",
       "      <td>4</td>\n",
       "      <td>2</td>\n",
       "      <td>28</td>\n",
       "      <td>27</td>\n",
       "      <td>2454.1</td>\n",
       "      <td>3.70</td>\n",
       "      <td>37.04</td>\n",
       "      <td>40.74</td>\n",
       "      <td>25.93</td>\n",
       "      <td>33.33</td>\n",
       "      <td>27</td>\n",
       "    </tr>\n",
       "    <tr>\n",
       "      <th>4</th>\n",
       "      <td>39069</td>\n",
       "      <td>100016</td>\n",
       "      <td>B</td>\n",
       "      <td>139</td>\n",
       "      <td>139</td>\n",
       "      <td>5</td>\n",
       "      <td>1</td>\n",
       "      <td>25</td>\n",
       "      <td>25</td>\n",
       "      <td>2461.9</td>\n",
       "      <td>4.00</td>\n",
       "      <td>32.00</td>\n",
       "      <td>36.00</td>\n",
       "      <td>16.00</td>\n",
       "      <td>48.00</td>\n",
       "      <td>25</td>\n",
       "    </tr>\n",
       "  </tbody>\n",
       "</table>\n",
       "</div>"
      ],
      "text/plain": [
       "   index  School Code Test Type Total Tested At Entity Level  \\\n",
       "0  39065       100016         B                          139   \n",
       "1  39066       100016         B                          139   \n",
       "2  39067       100016         B                          139   \n",
       "3  39068       100016         B                          139   \n",
       "4  39069       100016         B                          139   \n",
       "\n",
       "  Total Tested with Scores  Grade  Test Id CAASPP Reported Enrollment  \\\n",
       "0                      139      3        1                         22   \n",
       "1                      139      3        2                         22   \n",
       "2                      139      4        1                         28   \n",
       "3                      139      4        2                         28   \n",
       "4                      139      5        1                         25   \n",
       "\n",
       "  Students Tested Mean Scale Score Percentage Standard Exceeded  \\\n",
       "0              22           2432.6                         9.09   \n",
       "1              22           2412.2                        13.64   \n",
       "2              27           2466.8                        25.93   \n",
       "3              27           2454.1                         3.70   \n",
       "4              25           2461.9                         4.00   \n",
       "\n",
       "  Percentage Standard Met Percentage Standard Met and Above  \\\n",
       "0                   54.55                             63.64   \n",
       "1                   18.18                             31.82   \n",
       "2                   22.22                             48.15   \n",
       "3                   37.04                             40.74   \n",
       "4                   32.00                             36.00   \n",
       "\n",
       "  Percentage Standard Nearly Met Percentage Standard Not Met  \\\n",
       "0                          13.64                       22.73   \n",
       "1                          36.36                       31.82   \n",
       "2                          14.81                       37.04   \n",
       "3                          25.93                       33.33   \n",
       "4                          16.00                       48.00   \n",
       "\n",
       "  Students with Scores  \n",
       "0                   22  \n",
       "1                   22  \n",
       "2                   27  \n",
       "3                   27  \n",
       "4                   25  "
      ]
     },
     "execution_count": 4,
     "metadata": {},
     "output_type": "execute_result"
    }
   ],
   "source": [
    "file = file.drop('Filler', axis=1)\n",
    "file = file.drop([\"County Code\", \"District Code\", \"Test Year\", \"Subgroup ID\"], axis=1)\n",
    "file = file.drop([\"Area 1 Percentage Above Standard\", \"Area 1 Percentage Near Standard\", \"Area 1 Percentage Below Standard\", \"Area 2 Percentage Above Standard\", \"Area 2 Percentage Near Standard\", \"Area 2 Percentage Below Standard\", \"Area 3 Percentage Above Standard\", \"Area 3 Percentage Near Standard\", \"Area 3 Percentage Below Standard\", \"Area 4 Percentage Above Standard\", \"Area 4 Percentage Near Standard\", \"Area 4 Percentage Below Standard\"], axis=1)\n",
    "file = file.drop(file[file['Students Tested']=='*'].index)\n",
    "file = file[file[\"School Code\"] != 0]\n",
    "file = file.dropna()\n",
    "file = file.sort_values(by=[\"School Code\", \"Grade\", \"Test Id\"])\n",
    "file = file.reset_index()\n",
    "file.head()"
   ]
  },
  {
   "cell_type": "markdown",
   "metadata": {},
   "source": [
    "We now want to separate the entities by public and charter schools so we can then merge the scores and label our data."
   ]
  },
  {
   "cell_type": "code",
   "execution_count": 5,
   "metadata": {},
   "outputs": [
    {
     "data": {
      "text/html": [
       "<div>\n",
       "<style scoped>\n",
       "    .dataframe tbody tr th:only-of-type {\n",
       "        vertical-align: middle;\n",
       "    }\n",
       "\n",
       "    .dataframe tbody tr th {\n",
       "        vertical-align: top;\n",
       "    }\n",
       "\n",
       "    .dataframe thead th {\n",
       "        text-align: right;\n",
       "    }\n",
       "</style>\n",
       "<table border=\"1\" class=\"dataframe\">\n",
       "  <thead>\n",
       "    <tr style=\"text-align: right;\">\n",
       "      <th></th>\n",
       "      <th>index</th>\n",
       "      <th>School Code</th>\n",
       "      <th>Type Id</th>\n",
       "      <th>County Name</th>\n",
       "      <th>District Name</th>\n",
       "      <th>School Name</th>\n",
       "      <th>Zip Code</th>\n",
       "    </tr>\n",
       "  </thead>\n",
       "  <tbody>\n",
       "    <tr>\n",
       "      <th>0</th>\n",
       "      <td>4473</td>\n",
       "      <td>100016</td>\n",
       "      <td>9</td>\n",
       "      <td>Madera</td>\n",
       "      <td>Sherman Thomas Charter</td>\n",
       "      <td>Sherman Thomas Charter</td>\n",
       "      <td>93638</td>\n",
       "    </tr>\n",
       "    <tr>\n",
       "      <th>4</th>\n",
       "      <td>221</td>\n",
       "      <td>100065</td>\n",
       "      <td>9</td>\n",
       "      <td>Alameda</td>\n",
       "      <td>Oakland Unity High</td>\n",
       "      <td>Oakland Unity High</td>\n",
       "      <td>94605</td>\n",
       "    </tr>\n",
       "    <tr>\n",
       "      <th>8</th>\n",
       "      <td>222</td>\n",
       "      <td>100123</td>\n",
       "      <td>9</td>\n",
       "      <td>Alameda</td>\n",
       "      <td>East Oakland Leadership Academy</td>\n",
       "      <td>East Oakland Leadership Academy</td>\n",
       "      <td>94605</td>\n",
       "    </tr>\n",
       "    <tr>\n",
       "      <th>9</th>\n",
       "      <td>2018</td>\n",
       "      <td>100156</td>\n",
       "      <td>10</td>\n",
       "      <td>Kings</td>\n",
       "      <td>Lemoore Union Elementary</td>\n",
       "      <td>Lemoore University Elementary Charter</td>\n",
       "      <td>93245</td>\n",
       "    </tr>\n",
       "    <tr>\n",
       "      <th>17</th>\n",
       "      <td>2786</td>\n",
       "      <td>100289</td>\n",
       "      <td>9</td>\n",
       "      <td>Los Angeles</td>\n",
       "      <td>N.E.W. Academy Of Science And Arts</td>\n",
       "      <td>N.E.W. Academy Of Science And Arts</td>\n",
       "      <td>90017</td>\n",
       "    </tr>\n",
       "  </tbody>\n",
       "</table>\n",
       "</div>"
      ],
      "text/plain": [
       "    index  School Code  Type Id  County Name  \\\n",
       "0    4473       100016        9       Madera   \n",
       "4     221       100065        9      Alameda   \n",
       "8     222       100123        9      Alameda   \n",
       "9    2018       100156       10        Kings   \n",
       "17   2786       100289        9  Los Angeles   \n",
       "\n",
       "                         District Name                            School Name  \\\n",
       "0               Sherman Thomas Charter                 Sherman Thomas Charter   \n",
       "4                   Oakland Unity High                     Oakland Unity High   \n",
       "8      East Oakland Leadership Academy        East Oakland Leadership Academy   \n",
       "9             Lemoore Union Elementary  Lemoore University Elementary Charter   \n",
       "17  N.E.W. Academy Of Science And Arts     N.E.W. Academy Of Science And Arts   \n",
       "\n",
       "   Zip Code  \n",
       "0     93638  \n",
       "4     94605  \n",
       "8     94605  \n",
       "9     93245  \n",
       "17    90017  "
      ]
     },
     "execution_count": 5,
     "metadata": {},
     "output_type": "execute_result"
    }
   ],
   "source": [
    "charter_schools = file_info[file_info[\"Type Id\"] >= 9]\n",
    "charter_schools.head()"
   ]
  },
  {
   "cell_type": "code",
   "execution_count": 6,
   "metadata": {},
   "outputs": [
    {
     "data": {
      "text/html": [
       "<div>\n",
       "<style scoped>\n",
       "    .dataframe tbody tr th:only-of-type {\n",
       "        vertical-align: middle;\n",
       "    }\n",
       "\n",
       "    .dataframe tbody tr th {\n",
       "        vertical-align: top;\n",
       "    }\n",
       "\n",
       "    .dataframe thead th {\n",
       "        text-align: right;\n",
       "    }\n",
       "</style>\n",
       "<table border=\"1\" class=\"dataframe\">\n",
       "  <thead>\n",
       "    <tr style=\"text-align: right;\">\n",
       "      <th></th>\n",
       "      <th>index</th>\n",
       "      <th>School Code</th>\n",
       "      <th>Type Id</th>\n",
       "      <th>County Name</th>\n",
       "      <th>District Name</th>\n",
       "      <th>School Name</th>\n",
       "      <th>Zip Code</th>\n",
       "    </tr>\n",
       "  </thead>\n",
       "  <tbody>\n",
       "    <tr>\n",
       "      <th>1</th>\n",
       "      <td>934</td>\n",
       "      <td>100024</td>\n",
       "      <td>7</td>\n",
       "      <td>El Dorado</td>\n",
       "      <td>Buckeye Union Elementary</td>\n",
       "      <td>Oak Meadow Elementary</td>\n",
       "      <td>95762</td>\n",
       "    </tr>\n",
       "    <tr>\n",
       "      <th>2</th>\n",
       "      <td>6637</td>\n",
       "      <td>100040</td>\n",
       "      <td>7</td>\n",
       "      <td>Sacramento</td>\n",
       "      <td>Galt Joint Union Elementary</td>\n",
       "      <td>Robert L. Mccaffrey Middle</td>\n",
       "      <td>95632</td>\n",
       "    </tr>\n",
       "    <tr>\n",
       "      <th>3</th>\n",
       "      <td>5972</td>\n",
       "      <td>100057</td>\n",
       "      <td>7</td>\n",
       "      <td>Plumas</td>\n",
       "      <td>Plumas County Office Of Education</td>\n",
       "      <td>Plumas County Community</td>\n",
       "      <td>95971</td>\n",
       "    </tr>\n",
       "    <tr>\n",
       "      <th>5</th>\n",
       "      <td>2187</td>\n",
       "      <td>100081</td>\n",
       "      <td>7</td>\n",
       "      <td>Los Angeles</td>\n",
       "      <td>Antelope Valley Union High</td>\n",
       "      <td>William J. (Pete) Knight High</td>\n",
       "      <td>93552</td>\n",
       "    </tr>\n",
       "    <tr>\n",
       "      <th>6</th>\n",
       "      <td>7212</td>\n",
       "      <td>100107</td>\n",
       "      <td>7</td>\n",
       "      <td>San Bernardino</td>\n",
       "      <td>Ontario-Montclair</td>\n",
       "      <td>Vista Grande Elementary</td>\n",
       "      <td>91762</td>\n",
       "    </tr>\n",
       "  </tbody>\n",
       "</table>\n",
       "</div>"
      ],
      "text/plain": [
       "   index  School Code  Type Id     County Name  \\\n",
       "1    934       100024        7       El Dorado   \n",
       "2   6637       100040        7      Sacramento   \n",
       "3   5972       100057        7          Plumas   \n",
       "5   2187       100081        7     Los Angeles   \n",
       "6   7212       100107        7  San Bernardino   \n",
       "\n",
       "                       District Name                    School Name Zip Code  \n",
       "1           Buckeye Union Elementary          Oak Meadow Elementary    95762  \n",
       "2        Galt Joint Union Elementary     Robert L. Mccaffrey Middle    95632  \n",
       "3  Plumas County Office Of Education        Plumas County Community    95971  \n",
       "5         Antelope Valley Union High  William J. (Pete) Knight High    93552  \n",
       "6                  Ontario-Montclair        Vista Grande Elementary    91762  "
      ]
     },
     "execution_count": 6,
     "metadata": {},
     "output_type": "execute_result"
    }
   ],
   "source": [
    "public_schools = file_info[file_info[\"Type Id\"] == 7]\n",
    "public_schools.head()"
   ]
  },
  {
   "cell_type": "markdown",
   "metadata": {},
   "source": [
    "This is where we merge our data into our new dataframes."
   ]
  },
  {
   "cell_type": "code",
   "execution_count": 7,
   "metadata": {},
   "outputs": [
    {
     "data": {
      "text/html": [
       "<div>\n",
       "<style scoped>\n",
       "    .dataframe tbody tr th:only-of-type {\n",
       "        vertical-align: middle;\n",
       "    }\n",
       "\n",
       "    .dataframe tbody tr th {\n",
       "        vertical-align: top;\n",
       "    }\n",
       "\n",
       "    .dataframe thead th {\n",
       "        text-align: right;\n",
       "    }\n",
       "</style>\n",
       "<table border=\"1\" class=\"dataframe\">\n",
       "  <thead>\n",
       "    <tr style=\"text-align: right;\">\n",
       "      <th></th>\n",
       "      <th>School Code</th>\n",
       "      <th>Test Type</th>\n",
       "      <th>Total Tested At Entity Level</th>\n",
       "      <th>Total Tested with Scores</th>\n",
       "      <th>Grade</th>\n",
       "      <th>Test Id</th>\n",
       "      <th>CAASPP Reported Enrollment</th>\n",
       "      <th>Students Tested</th>\n",
       "      <th>Mean Scale Score</th>\n",
       "      <th>Percentage Standard Exceeded</th>\n",
       "      <th>Percentage Standard Met</th>\n",
       "      <th>Percentage Standard Met and Above</th>\n",
       "      <th>Percentage Standard Nearly Met</th>\n",
       "      <th>Percentage Standard Not Met</th>\n",
       "      <th>Students with Scores</th>\n",
       "      <th>Type Id</th>\n",
       "      <th>County Name</th>\n",
       "      <th>District Name</th>\n",
       "      <th>School Name</th>\n",
       "      <th>Zip Code</th>\n",
       "    </tr>\n",
       "  </thead>\n",
       "  <tbody>\n",
       "    <tr>\n",
       "      <th>0</th>\n",
       "      <td>100016</td>\n",
       "      <td>B</td>\n",
       "      <td>139</td>\n",
       "      <td>139</td>\n",
       "      <td>3</td>\n",
       "      <td>1</td>\n",
       "      <td>22</td>\n",
       "      <td>22</td>\n",
       "      <td>2432.6</td>\n",
       "      <td>9.09</td>\n",
       "      <td>54.55</td>\n",
       "      <td>63.64</td>\n",
       "      <td>13.64</td>\n",
       "      <td>22.73</td>\n",
       "      <td>22</td>\n",
       "      <td>9</td>\n",
       "      <td>Madera</td>\n",
       "      <td>Sherman Thomas Charter</td>\n",
       "      <td>Sherman Thomas Charter</td>\n",
       "      <td>93638</td>\n",
       "    </tr>\n",
       "    <tr>\n",
       "      <th>1</th>\n",
       "      <td>100016</td>\n",
       "      <td>B</td>\n",
       "      <td>139</td>\n",
       "      <td>139</td>\n",
       "      <td>3</td>\n",
       "      <td>2</td>\n",
       "      <td>22</td>\n",
       "      <td>22</td>\n",
       "      <td>2412.2</td>\n",
       "      <td>13.64</td>\n",
       "      <td>18.18</td>\n",
       "      <td>31.82</td>\n",
       "      <td>36.36</td>\n",
       "      <td>31.82</td>\n",
       "      <td>22</td>\n",
       "      <td>9</td>\n",
       "      <td>Madera</td>\n",
       "      <td>Sherman Thomas Charter</td>\n",
       "      <td>Sherman Thomas Charter</td>\n",
       "      <td>93638</td>\n",
       "    </tr>\n",
       "    <tr>\n",
       "      <th>2</th>\n",
       "      <td>100016</td>\n",
       "      <td>B</td>\n",
       "      <td>139</td>\n",
       "      <td>139</td>\n",
       "      <td>4</td>\n",
       "      <td>1</td>\n",
       "      <td>28</td>\n",
       "      <td>27</td>\n",
       "      <td>2466.8</td>\n",
       "      <td>25.93</td>\n",
       "      <td>22.22</td>\n",
       "      <td>48.15</td>\n",
       "      <td>14.81</td>\n",
       "      <td>37.04</td>\n",
       "      <td>27</td>\n",
       "      <td>9</td>\n",
       "      <td>Madera</td>\n",
       "      <td>Sherman Thomas Charter</td>\n",
       "      <td>Sherman Thomas Charter</td>\n",
       "      <td>93638</td>\n",
       "    </tr>\n",
       "    <tr>\n",
       "      <th>3</th>\n",
       "      <td>100016</td>\n",
       "      <td>B</td>\n",
       "      <td>139</td>\n",
       "      <td>139</td>\n",
       "      <td>4</td>\n",
       "      <td>2</td>\n",
       "      <td>28</td>\n",
       "      <td>27</td>\n",
       "      <td>2454.1</td>\n",
       "      <td>3.70</td>\n",
       "      <td>37.04</td>\n",
       "      <td>40.74</td>\n",
       "      <td>25.93</td>\n",
       "      <td>33.33</td>\n",
       "      <td>27</td>\n",
       "      <td>9</td>\n",
       "      <td>Madera</td>\n",
       "      <td>Sherman Thomas Charter</td>\n",
       "      <td>Sherman Thomas Charter</td>\n",
       "      <td>93638</td>\n",
       "    </tr>\n",
       "    <tr>\n",
       "      <th>4</th>\n",
       "      <td>100016</td>\n",
       "      <td>B</td>\n",
       "      <td>139</td>\n",
       "      <td>139</td>\n",
       "      <td>5</td>\n",
       "      <td>1</td>\n",
       "      <td>25</td>\n",
       "      <td>25</td>\n",
       "      <td>2461.9</td>\n",
       "      <td>4.00</td>\n",
       "      <td>32.00</td>\n",
       "      <td>36.00</td>\n",
       "      <td>16.00</td>\n",
       "      <td>48.00</td>\n",
       "      <td>25</td>\n",
       "      <td>9</td>\n",
       "      <td>Madera</td>\n",
       "      <td>Sherman Thomas Charter</td>\n",
       "      <td>Sherman Thomas Charter</td>\n",
       "      <td>93638</td>\n",
       "    </tr>\n",
       "  </tbody>\n",
       "</table>\n",
       "</div>"
      ],
      "text/plain": [
       "   School Code Test Type Total Tested At Entity Level  \\\n",
       "0       100016         B                          139   \n",
       "1       100016         B                          139   \n",
       "2       100016         B                          139   \n",
       "3       100016         B                          139   \n",
       "4       100016         B                          139   \n",
       "\n",
       "  Total Tested with Scores  Grade  Test Id CAASPP Reported Enrollment  \\\n",
       "0                      139      3        1                         22   \n",
       "1                      139      3        2                         22   \n",
       "2                      139      4        1                         28   \n",
       "3                      139      4        2                         28   \n",
       "4                      139      5        1                         25   \n",
       "\n",
       "  Students Tested Mean Scale Score Percentage Standard Exceeded  \\\n",
       "0              22           2432.6                         9.09   \n",
       "1              22           2412.2                        13.64   \n",
       "2              27           2466.8                        25.93   \n",
       "3              27           2454.1                         3.70   \n",
       "4              25           2461.9                         4.00   \n",
       "\n",
       "  Percentage Standard Met Percentage Standard Met and Above  \\\n",
       "0                   54.55                             63.64   \n",
       "1                   18.18                             31.82   \n",
       "2                   22.22                             48.15   \n",
       "3                   37.04                             40.74   \n",
       "4                   32.00                             36.00   \n",
       "\n",
       "  Percentage Standard Nearly Met Percentage Standard Not Met  \\\n",
       "0                          13.64                       22.73   \n",
       "1                          36.36                       31.82   \n",
       "2                          14.81                       37.04   \n",
       "3                          25.93                       33.33   \n",
       "4                          16.00                       48.00   \n",
       "\n",
       "  Students with Scores  Type Id County Name           District Name  \\\n",
       "0                   22        9      Madera  Sherman Thomas Charter   \n",
       "1                   22        9      Madera  Sherman Thomas Charter   \n",
       "2                   27        9      Madera  Sherman Thomas Charter   \n",
       "3                   27        9      Madera  Sherman Thomas Charter   \n",
       "4                   25        9      Madera  Sherman Thomas Charter   \n",
       "\n",
       "              School Name Zip Code  \n",
       "0  Sherman Thomas Charter    93638  \n",
       "1  Sherman Thomas Charter    93638  \n",
       "2  Sherman Thomas Charter    93638  \n",
       "3  Sherman Thomas Charter    93638  \n",
       "4  Sherman Thomas Charter    93638  "
      ]
     },
     "execution_count": 7,
     "metadata": {},
     "output_type": "execute_result"
    }
   ],
   "source": [
    "charter_school_data = file.merge(charter_schools, on='School Code').drop(['index_x', 'index_y'], axis=1)\n",
    "charter_school_data.head()"
   ]
  },
  {
   "cell_type": "code",
   "execution_count": 8,
   "metadata": {},
   "outputs": [
    {
     "data": {
      "text/html": [
       "<div>\n",
       "<style scoped>\n",
       "    .dataframe tbody tr th:only-of-type {\n",
       "        vertical-align: middle;\n",
       "    }\n",
       "\n",
       "    .dataframe tbody tr th {\n",
       "        vertical-align: top;\n",
       "    }\n",
       "\n",
       "    .dataframe thead th {\n",
       "        text-align: right;\n",
       "    }\n",
       "</style>\n",
       "<table border=\"1\" class=\"dataframe\">\n",
       "  <thead>\n",
       "    <tr style=\"text-align: right;\">\n",
       "      <th></th>\n",
       "      <th>School Code</th>\n",
       "      <th>Test Type</th>\n",
       "      <th>Total Tested At Entity Level</th>\n",
       "      <th>Total Tested with Scores</th>\n",
       "      <th>Grade</th>\n",
       "      <th>Test Id</th>\n",
       "      <th>CAASPP Reported Enrollment</th>\n",
       "      <th>Students Tested</th>\n",
       "      <th>Mean Scale Score</th>\n",
       "      <th>Percentage Standard Exceeded</th>\n",
       "      <th>Percentage Standard Met</th>\n",
       "      <th>Percentage Standard Met and Above</th>\n",
       "      <th>Percentage Standard Nearly Met</th>\n",
       "      <th>Percentage Standard Not Met</th>\n",
       "      <th>Students with Scores</th>\n",
       "      <th>Type Id</th>\n",
       "      <th>County Name</th>\n",
       "      <th>District Name</th>\n",
       "      <th>School Name</th>\n",
       "      <th>Zip Code</th>\n",
       "    </tr>\n",
       "  </thead>\n",
       "  <tbody>\n",
       "    <tr>\n",
       "      <th>0</th>\n",
       "      <td>100024</td>\n",
       "      <td>B</td>\n",
       "      <td>383</td>\n",
       "      <td>383</td>\n",
       "      <td>3</td>\n",
       "      <td>1</td>\n",
       "      <td>99</td>\n",
       "      <td>98</td>\n",
       "      <td>2480.8</td>\n",
       "      <td>50.00</td>\n",
       "      <td>26.53</td>\n",
       "      <td>76.53</td>\n",
       "      <td>17.35</td>\n",
       "      <td>6.12</td>\n",
       "      <td>98</td>\n",
       "      <td>7</td>\n",
       "      <td>El Dorado</td>\n",
       "      <td>Buckeye Union Elementary</td>\n",
       "      <td>Oak Meadow Elementary</td>\n",
       "      <td>95762</td>\n",
       "    </tr>\n",
       "    <tr>\n",
       "      <th>1</th>\n",
       "      <td>100024</td>\n",
       "      <td>B</td>\n",
       "      <td>385</td>\n",
       "      <td>385</td>\n",
       "      <td>3</td>\n",
       "      <td>2</td>\n",
       "      <td>99</td>\n",
       "      <td>98</td>\n",
       "      <td>2475.0</td>\n",
       "      <td>41.84</td>\n",
       "      <td>32.65</td>\n",
       "      <td>74.49</td>\n",
       "      <td>17.35</td>\n",
       "      <td>8.16</td>\n",
       "      <td>98</td>\n",
       "      <td>7</td>\n",
       "      <td>El Dorado</td>\n",
       "      <td>Buckeye Union Elementary</td>\n",
       "      <td>Oak Meadow Elementary</td>\n",
       "      <td>95762</td>\n",
       "    </tr>\n",
       "    <tr>\n",
       "      <th>2</th>\n",
       "      <td>100024</td>\n",
       "      <td>B</td>\n",
       "      <td>383</td>\n",
       "      <td>383</td>\n",
       "      <td>4</td>\n",
       "      <td>1</td>\n",
       "      <td>128</td>\n",
       "      <td>126</td>\n",
       "      <td>2547.8</td>\n",
       "      <td>63.49</td>\n",
       "      <td>26.98</td>\n",
       "      <td>90.48</td>\n",
       "      <td>5.56</td>\n",
       "      <td>3.97</td>\n",
       "      <td>126</td>\n",
       "      <td>7</td>\n",
       "      <td>El Dorado</td>\n",
       "      <td>Buckeye Union Elementary</td>\n",
       "      <td>Oak Meadow Elementary</td>\n",
       "      <td>95762</td>\n",
       "    </tr>\n",
       "    <tr>\n",
       "      <th>3</th>\n",
       "      <td>100024</td>\n",
       "      <td>B</td>\n",
       "      <td>385</td>\n",
       "      <td>385</td>\n",
       "      <td>4</td>\n",
       "      <td>2</td>\n",
       "      <td>128</td>\n",
       "      <td>127</td>\n",
       "      <td>2546.7</td>\n",
       "      <td>48.82</td>\n",
       "      <td>40.16</td>\n",
       "      <td>88.98</td>\n",
       "      <td>8.66</td>\n",
       "      <td>2.36</td>\n",
       "      <td>127</td>\n",
       "      <td>7</td>\n",
       "      <td>El Dorado</td>\n",
       "      <td>Buckeye Union Elementary</td>\n",
       "      <td>Oak Meadow Elementary</td>\n",
       "      <td>95762</td>\n",
       "    </tr>\n",
       "    <tr>\n",
       "      <th>4</th>\n",
       "      <td>100024</td>\n",
       "      <td>B</td>\n",
       "      <td>383</td>\n",
       "      <td>383</td>\n",
       "      <td>5</td>\n",
       "      <td>1</td>\n",
       "      <td>161</td>\n",
       "      <td>159</td>\n",
       "      <td>2571.7</td>\n",
       "      <td>46.54</td>\n",
       "      <td>35.85</td>\n",
       "      <td>82.39</td>\n",
       "      <td>11.95</td>\n",
       "      <td>5.66</td>\n",
       "      <td>159</td>\n",
       "      <td>7</td>\n",
       "      <td>El Dorado</td>\n",
       "      <td>Buckeye Union Elementary</td>\n",
       "      <td>Oak Meadow Elementary</td>\n",
       "      <td>95762</td>\n",
       "    </tr>\n",
       "  </tbody>\n",
       "</table>\n",
       "</div>"
      ],
      "text/plain": [
       "   School Code Test Type Total Tested At Entity Level  \\\n",
       "0       100024         B                          383   \n",
       "1       100024         B                          385   \n",
       "2       100024         B                          383   \n",
       "3       100024         B                          385   \n",
       "4       100024         B                          383   \n",
       "\n",
       "  Total Tested with Scores  Grade  Test Id CAASPP Reported Enrollment  \\\n",
       "0                      383      3        1                         99   \n",
       "1                      385      3        2                         99   \n",
       "2                      383      4        1                        128   \n",
       "3                      385      4        2                        128   \n",
       "4                      383      5        1                        161   \n",
       "\n",
       "  Students Tested Mean Scale Score Percentage Standard Exceeded  \\\n",
       "0              98           2480.8                        50.00   \n",
       "1              98           2475.0                        41.84   \n",
       "2             126           2547.8                        63.49   \n",
       "3             127           2546.7                        48.82   \n",
       "4             159           2571.7                        46.54   \n",
       "\n",
       "  Percentage Standard Met Percentage Standard Met and Above  \\\n",
       "0                   26.53                             76.53   \n",
       "1                   32.65                             74.49   \n",
       "2                   26.98                             90.48   \n",
       "3                   40.16                             88.98   \n",
       "4                   35.85                             82.39   \n",
       "\n",
       "  Percentage Standard Nearly Met Percentage Standard Not Met  \\\n",
       "0                          17.35                        6.12   \n",
       "1                          17.35                        8.16   \n",
       "2                           5.56                        3.97   \n",
       "3                           8.66                        2.36   \n",
       "4                          11.95                        5.66   \n",
       "\n",
       "  Students with Scores  Type Id County Name             District Name  \\\n",
       "0                   98        7   El Dorado  Buckeye Union Elementary   \n",
       "1                   98        7   El Dorado  Buckeye Union Elementary   \n",
       "2                  126        7   El Dorado  Buckeye Union Elementary   \n",
       "3                  127        7   El Dorado  Buckeye Union Elementary   \n",
       "4                  159        7   El Dorado  Buckeye Union Elementary   \n",
       "\n",
       "             School Name Zip Code  \n",
       "0  Oak Meadow Elementary    95762  \n",
       "1  Oak Meadow Elementary    95762  \n",
       "2  Oak Meadow Elementary    95762  \n",
       "3  Oak Meadow Elementary    95762  \n",
       "4  Oak Meadow Elementary    95762  "
      ]
     },
     "execution_count": 8,
     "metadata": {},
     "output_type": "execute_result"
    }
   ],
   "source": [
    "public_school_data = file.merge(public_schools, on='School Code').drop(['index_x', 'index_y'], axis=1)\n",
    "public_school_data.head()"
   ]
  },
  {
   "cell_type": "markdown",
   "metadata": {},
   "source": [
    "Now we will look at the mean scores in each subject."
   ]
  },
  {
   "cell_type": "code",
   "execution_count": 9,
   "metadata": {},
   "outputs": [],
   "source": [
    "public_school_english = public_school_data[public_school_data[\"Test Id\"] == 1]\n",
    "public_school_math = public_school_data[public_school_data[\"Test Id\"] == 2]\n",
    "\n",
    "charter_school_english = charter_school_data[charter_school_data[\"Test Id\"] == 1]\n",
    "charter_school_math = charter_school_data[charter_school_data[\"Test Id\"] == 2]"
   ]
  },
  {
   "cell_type": "code",
   "execution_count": 10,
   "metadata": {},
   "outputs": [
    {
     "name": "stdout",
     "output_type": "stream",
     "text": [
      "English Language Arts/Literacy Mean Scores\n",
      "Public School: 2487.691795124764\n",
      "Charter School: 2509.1223082336464\n"
     ]
    }
   ],
   "source": [
    "public_school_english_mean = np.mean(public_school_english[\"Mean Scale Score\"].astype(float))\n",
    "charter_school_english_mean = np.mean(charter_school_english[\"Mean Scale Score\"].astype(float))\n",
    "\n",
    "print(\"English Language Arts/Literacy Mean Scores\")\n",
    "print(\"Public School: \" + str(public_school_english_mean))\n",
    "print(\"Charter School: \" + str(charter_school_english_mean))"
   ]
  },
  {
   "cell_type": "code",
   "execution_count": 11,
   "metadata": {},
   "outputs": [
    {
     "name": "stdout",
     "output_type": "stream",
     "text": [
      "Mathematics Mean Scores\n",
      "Public School: 2482.1506905623137\n",
      "Charter School: 2494.133278573107\n"
     ]
    }
   ],
   "source": [
    "public_school_math_mean = np.mean(public_school_math[\"Mean Scale Score\"].astype(float))\n",
    "charter_school_math_mean = np.mean(charter_school_math[\"Mean Scale Score\"].astype(float))\n",
    "\n",
    "print(\"Mathematics Mean Scores\")\n",
    "print(\"Public School: \" + str(public_school_math_mean))\n",
    "print(\"Charter School: \" + str(charter_school_math_mean))"
   ]
  },
  {
   "cell_type": "code",
   "execution_count": 12,
   "metadata": {},
   "outputs": [
    {
     "name": "stdout",
     "output_type": "stream",
     "text": [
      "Percentage of Students that Met or Exceeded English Language Arts/Literacy Standards\n",
      "Public School: 47.23017223660962\n",
      "Charter School: 48.493070607553456\n"
     ]
    }
   ],
   "source": [
    "public_school_english_met = np.mean(public_school_english[\"Percentage Standard Met and Above\"].astype(float))\n",
    "charter_school_english_met = np.mean(charter_school_english[\"Percentage Standard Met and Above\"].astype(float))\n",
    "\n",
    "print(\"Percentage of Students that Met or Exceeded English Language Arts/Literacy Standards\")\n",
    "print(\"Public School: \" + str(public_school_english_met))\n",
    "print(\"Charter School: \" + str(charter_school_english_met))"
   ]
  },
  {
   "cell_type": "code",
   "execution_count": 13,
   "metadata": {},
   "outputs": [
    {
     "name": "stdout",
     "output_type": "stream",
     "text": [
      "Percentage of Students that Met or Exceeded Mathematics Standards\n",
      "Public School: 38.41453304833945\n",
      "Charter School: 35.50923726824682\n"
     ]
    }
   ],
   "source": [
    "public_school_math_met = np.mean(public_school_math[\"Percentage Standard Met and Above\"].astype(float))\n",
    "charter_school_math_met = np.mean(charter_school_math[\"Percentage Standard Met and Above\"].astype(float))\n",
    "\n",
    "print(\"Percentage of Students that Met or Exceeded Mathematics Standards\")\n",
    "print(\"Public School: \" + str(public_school_math_met))\n",
    "print(\"Charter School: \" + str(charter_school_math_met))"
   ]
  },
  {
   "cell_type": "markdown",
   "metadata": {},
   "source": [
    "So, based on the mean scores, we see that charter schools perform better than public schools for the most part. However, mean scores aren't everything, considering that enrollment is different along with how well or how poorly each student performed."
   ]
  },
  {
   "cell_type": "markdown",
   "metadata": {},
   "source": [
    "We will now perform hypothesis testing based on a quantitative question: \n",
    "\n",
    "Is the proportion of students at charter schools that are meeting the standard significantly larger than the proportion of students at public schools that are meeting the standard?"
   ]
  },
  {
   "cell_type": "code",
   "execution_count": 14,
   "metadata": {},
   "outputs": [],
   "source": [
    "# hypothesis testing: apply z-test on equality of proportions to compare:\n",
    "# 1. scores between public and charter schools\n",
    "# 2. scores between 2017 and 2018"
   ]
  },
  {
   "cell_type": "code",
   "execution_count": 15,
   "metadata": {},
   "outputs": [],
   "source": [
    "public_school_standard_met = 0\n",
    "charter_school_standard_met = 0\n",
    "\n",
    "public_school_students_tested = sum(public_school_data[\"Students Tested\"].astype(int))\n",
    "charter_school_students_tested = sum(charter_school_data[\"Students Tested\"].astype(int))\n",
    "\n",
    "for i in public_school_data.index:\n",
    "    try:\n",
    "        public_school_standard_met += int(int(round(float(public_school_data[\"Students Tested\"][i]))) / int(round(float(public_school_data[\"Percentage Standard Met and Above\"][i]))))\n",
    "    except:\n",
    "        pass\n",
    "\n",
    "for i in charter_school_data.index:\n",
    "    try:\n",
    "        charter_school_standard_met += int(int(round(float(charter_school_data[\"Students Tested\"][i]))) / int(round(float(charter_school_data[\"Percentage Standard Met and Above\"][i]))))\n",
    "    except:\n",
    "        pass\n",
    "    \n",
    "null_hypothesis = \"public_school_standard_met=charter_school_standard_met\"\n",
    "alt_hypothesis = \"public_school_standard_met<charter_school_standard_met\""
   ]
  },
  {
   "cell_type": "code",
   "execution_count": 16,
   "metadata": {},
   "outputs": [
    {
     "data": {
      "text/plain": [
       "(-8.276135831491297, 6.361842511448383e-17)"
      ]
     },
     "execution_count": 16,
     "metadata": {},
     "output_type": "execute_result"
    }
   ],
   "source": [
    "# z-test\n",
    "\n",
    "ztest_exam = sm.stats.proportions_ztest([public_school_standard_met, charter_school_standard_met], [public_school_students_tested, charter_school_students_tested], alternative='smaller')\n",
    "ztest_exam"
   ]
  },
  {
   "cell_type": "markdown",
   "metadata": {},
   "source": [
    "What we notice here is that the p-value is below 0.05 and therefore we will have to reject the null hypothesis, bringing us to the conclusion that the proportion of students at charter schools that are meeting the standard is greater than the proportion of students at public schools that are meeting the standard.\n",
    "\n",
    "This raises the question: do charter schools help students exceed the expectations? Are most students performing average at best, or are many exceeding while others are not meeting the goals? The same goes for public schools, are there more students excelling than at charter schools?\n",
    "\n",
    "Let's perform another hypothesis test, but this time focusing on the percentage of students exceeding."
   ]
  },
  {
   "cell_type": "code",
   "execution_count": 17,
   "metadata": {},
   "outputs": [],
   "source": [
    "public_school_standard_exceeded = 0\n",
    "charter_school_standard_exceeded = 0\n",
    "\n",
    "for i in public_school_data.index:\n",
    "    try:\n",
    "        public_school_standard_exceeded += int(int(round(float(public_school_data[\"Students Tested\"][i]))) / int(round(float(public_school_data[\"Percentage Standard Exceeded\"][i]))))\n",
    "    except:\n",
    "        pass\n",
    "    \n",
    "for i in charter_school_data.index:\n",
    "    try:\n",
    "        charter_school_standard_exceeded += int(int(round(float(charter_school_data[\"Students Tested\"][i]))) / int(round(float(charter_school_data[\"Percentage Standard Exceeded\"][i]))))\n",
    "    except:\n",
    "        pass\n",
    "    \n",
    "null_hypothesis = \"public_school_standard_exceeded=charter_school_standard_met\"\n",
    "alt_hypothesis = \"public_school_standard_exceeded>charter_school_standard_met\""
   ]
  },
  {
   "cell_type": "code",
   "execution_count": 18,
   "metadata": {},
   "outputs": [
    {
     "data": {
      "text/plain": [
       "(16.230808965060703, 1.527038627733469e-59)"
      ]
     },
     "execution_count": 18,
     "metadata": {},
     "output_type": "execute_result"
    }
   ],
   "source": [
    "ztest_exam = sm.stats.proportions_ztest([public_school_standard_exceeded, charter_school_standard_exceeded], [public_school_students_tested, charter_school_students_tested], alternative='larger')\n",
    "ztest_exam"
   ]
  },
  {
   "cell_type": "markdown",
   "metadata": {},
   "source": [
    "This time, our p-value is again less than 0.05, meaning that we will also have to reject our null hypothesis. This shows that a larger proportion of public school students exceeded standards than charter school students."
   ]
  },
  {
   "cell_type": "markdown",
   "metadata": {},
   "source": [
    "in this part we see how much the scores vary from the mean i'll properly format this later"
   ]
  },
  {
   "cell_type": "code",
   "execution_count": 19,
   "metadata": {},
   "outputs": [
    {
     "name": "stdout",
     "output_type": "stream",
     "text": [
      "65.5998974425865\n",
      "65.09754112032032\n"
     ]
    }
   ],
   "source": [
    "print(np.std(public_school_data[\"Mean Scale Score\"].astype(float)))\n",
    "print(np.std(charter_school_data[\"Mean Scale Score\"].astype(float)))"
   ]
  },
  {
   "cell_type": "markdown",
   "metadata": {},
   "source": [
    "opening, reading, cleaning the 2015 dataset"
   ]
  },
  {
   "cell_type": "code",
   "execution_count": 20,
   "metadata": {},
   "outputs": [],
   "source": [
    "file_2015 = pd.read_csv(\"2015/comma_delimited/csv.txt\", delimiter=\",\", sep=\" \")\n",
    "file_info_2015 = pd.read_csv(\"2015/comma_delimited/csv_entities.txt\", delimiter=\",\", sep=\" \", encoding='latin-1')\n",
    "\n",
    "file_2015 = file_2015.drop('Filler', axis=1)\n",
    "file_2015 = file_2015.drop([\"County Code\", \"District Code\", \"Test Year\", \"Subgroup ID\"], axis=1)\n",
    "file_2015 = file_2015.drop([\"Area 1 Percentage Above Standard\", \"Area 1 Percentage At or Near Standard\", \"Area 1 Percentage Below Standard\", \"Area 2 Percentage Above Standard\", \"Area 2 Percentage At or Near Standard\", \"Area 2 Percentage Below Standard\", \"Area 3 Percentage Above Standard\", \"Area 3 Percentage At or Near Standard\", \"Area 3 Percentage Below Standard\", \"Area 4 Percentage Above Standard\", \"Area 4 Percentage At or Near Standard\", \"Area 4 Percentage Below Standard\"], axis=1)\n",
    "# file_2015 = file_2015.drop(file_2015[file_2015['Students Tested']=='*'].index)\n",
    "file_2015 = file_2015[file_2015[\"School Code\"] != 0]\n",
    "file_2015 = file_2015.dropna()\n",
    "file_2015 = file_2015.sort_values(by=[\"School Code\", \"Grade\", \"Test Id\"])\n",
    "file_2015 = file_2015.reset_index()\n",
    "\n",
    "file_info_2015 = file_info_2015.drop('Filler', axis=1)\n",
    "file_info_2015 = file_info_2015.drop([\"County Code\", \"District Code\", \"Test Year\"], axis=1)\n",
    "file_info_2015 = file_info_2015[file_info_2015[\"School Code\"] != 0]\n",
    "file_info_2015 = file_info_2015.dropna()\n",
    "file_info_2015 = file_info_2015.sort_values(by=\"School Code\")\n",
    "file_info_2015 = file_info_2015.reset_index()"
   ]
  },
  {
   "cell_type": "code",
   "execution_count": 21,
   "metadata": {},
   "outputs": [],
   "source": [
    "charter_schools_2015 = file_info_2015[file_info_2015[\"Type Id\"] >= 9]\n",
    "public_schools_2015 = file_info_2015[file_info_2015[\"Type Id\"] == 7]\n",
    "charter_school_2015_data = file.merge(charter_schools_2015, on='School Code').drop(['index_x', 'index_y'], axis=1)\n",
    "public_school_2015_data = file.merge(public_schools_2015, on='School Code').drop(['index_x', 'index_y'], axis=1)"
   ]
  },
  {
   "cell_type": "code",
   "execution_count": 22,
   "metadata": {},
   "outputs": [],
   "source": [
    "public_school_english_2015 = public_school_2015_data[public_school_2015_data[\"Test Id\"] == 1]\n",
    "public_school_math_2015 = public_school_2015_data[public_school_2015_data[\"Test Id\"] == 2]\n",
    "charter_school_english_2015 = charter_school_2015_data[charter_school_2015_data[\"Test Id\"] == 1]\n",
    "charter_school_math_2015 = charter_school_2015_data[charter_school_2015_data[\"Test Id\"] == 2]\n",
    "public_school_english_2015_mean = np.mean(public_school_english_2015[\"Mean Scale Score\"].astype(float))\n",
    "charter_school_english_2015_mean = np.mean(charter_school_english_2015[\"Mean Scale Score\"].astype(float))\n",
    "public_school_math_2015_mean = np.mean(public_school_math_2015[\"Mean Scale Score\"].astype(float))\n",
    "charter_school_math_2015_mean = np.mean(charter_school_math_2015[\"Mean Scale Score\"].astype(float))\n",
    "public_school_english_2015_met = np.mean(public_school_english_2015[\"Percentage Standard Met and Above\"].astype(float))\n",
    "charter_school_english_2015_met = np.mean(charter_school_english_2015[\"Percentage Standard Met and Above\"].astype(float))\n",
    "public_school_math_2015_met = np.mean(public_school_math_2015[\"Percentage Standard Met and Above\"].astype(float))\n",
    "charter_school_math_2015_met = np.mean(charter_school_math_2015[\"Percentage Standard Met and Above\"].astype(float))"
   ]
  },
  {
   "cell_type": "code",
   "execution_count": 23,
   "metadata": {},
   "outputs": [
    {
     "name": "stdout",
     "output_type": "stream",
     "text": [
      "English Language Arts/Literacy Mean Scores (2015)\n",
      "Public School: 2487.658785902424\n",
      "Charter School: 2508.6584696569953\n",
      " \n",
      "Mathematics Mean Scores (2015)\n",
      "Public School: 2482.2073498055906\n",
      "Charter School: 2494.4438258575187\n",
      " \n",
      "Percentage of Students that Met or Exceeded English Language Arts/Literacy Standards (2015)\n",
      "Public School: 47.21862870521351\n",
      "Charter School: 48.94233509234841\n",
      " \n",
      "Percentage of Students that Met or Exceeded Mathematics Standards (2015)\n",
      "Public School: 38.422786487729546\n",
      "Charter School: 36.111765171503855\n"
     ]
    }
   ],
   "source": [
    "print(\"English Language Arts/Literacy Mean Scores (2015)\")\n",
    "print(\"Public School: \" + str(public_school_english_2015_mean))\n",
    "print(\"Charter School: \" + str(charter_school_english_2015_mean))\n",
    "print(\" \")\n",
    "print(\"Mathematics Mean Scores (2015)\")\n",
    "print(\"Public School: \" + str(public_school_math_2015_mean))\n",
    "print(\"Charter School: \" + str(charter_school_math_2015_mean))\n",
    "print(\" \")\n",
    "print(\"Percentage of Students that Met or Exceeded English Language Arts/Literacy Standards (2015)\")\n",
    "print(\"Public School: \" + str(public_school_english_2015_met))\n",
    "print(\"Charter School: \" + str(charter_school_english_2015_met))\n",
    "print(\" \")\n",
    "print(\"Percentage of Students that Met or Exceeded Mathematics Standards (2015)\")\n",
    "print(\"Public School: \" + str(public_school_math_2015_met))\n",
    "print(\"Charter School: \" + str(charter_school_math_2015_met))"
   ]
  },
  {
   "cell_type": "code",
   "execution_count": 24,
   "metadata": {},
   "outputs": [
    {
     "name": "stdout",
     "output_type": "stream",
     "text": [
      "65.38834320797247\n",
      "65.84045489910572\n"
     ]
    }
   ],
   "source": [
    "print(np.std(public_school_2015_data[\"Mean Scale Score\"].astype(float)))\n",
    "print(np.std(charter_school_2015_data[\"Mean Scale Score\"].astype(float)))"
   ]
  },
  {
   "cell_type": "code",
   "execution_count": 25,
   "metadata": {},
   "outputs": [],
   "source": [
    "public_school_standard_2015_met = 0\n",
    "charter_school_standard_2015_met = 0\n",
    "\n",
    "public_school_students_tested_2015 = sum(public_school_2015_data[\"Students Tested\"].astype(int))\n",
    "charter_school_students_tested_2015 = sum(charter_school_2015_data[\"Students Tested\"].astype(int))\n",
    "\n",
    "for i in public_school_2015_data.index:\n",
    "    try:\n",
    "        public_school_standard_2015_met += int(int(round(float(public_school_2015_data[\"Students Tested\"][i]))) / int(round(float(public_school_2015_data[\"Percentage Standard Met and Above\"][i]))))\n",
    "    except:\n",
    "        pass\n",
    "\n",
    "for i in charter_school_2015_data.index:\n",
    "    try:\n",
    "        charter_school_standard_2015_met += int(int(round(float(charter_school_2015_data[\"Students Tested\"][i]))) / int(round(float(charter_school_2015_data[\"Percentage Standard Met and Above\"][i]))))\n",
    "    except:\n",
    "        pass\n",
    "    \n",
    "null_hypothesis = \"public_school_standard_2015_met=charter_school_standard_2015_met\"\n",
    "alt_hypothesis = \"public_school_standard_2015_met<charter_school_standard_2015_met\""
   ]
  },
  {
   "cell_type": "code",
   "execution_count": 26,
   "metadata": {},
   "outputs": [
    {
     "data": {
      "text/plain": [
       "(-3.2857912643318667, 0.0005084817050662198)"
      ]
     },
     "execution_count": 26,
     "metadata": {},
     "output_type": "execute_result"
    }
   ],
   "source": [
    "# z-test\n",
    "\n",
    "ztest_exam = sm.stats.proportions_ztest([public_school_standard_2015_met, charter_school_standard_2015_met], [public_school_students_tested_2015, charter_school_students_tested_2015], alternative='smaller')\n",
    "ztest_exam"
   ]
  },
  {
   "cell_type": "code",
   "execution_count": 27,
   "metadata": {},
   "outputs": [],
   "source": [
    "public_school_standard_2015_exceeded = 0\n",
    "charter_school_standard_2015_exceeded = 0\n",
    "\n",
    "for i in public_school_2015_data.index:\n",
    "    try:\n",
    "        public_school_standard_2015_exceeded += int(int(round(float(public_school_2015_data[\"Students Tested\"][i]))) / int(round(float(public_school_2015_data[\"Percentage Standard Exceeded\"][i]))))\n",
    "    except:\n",
    "        pass\n",
    "    \n",
    "for i in charter_school_2015_data.index:\n",
    "    try:\n",
    "        charter_school_standard_2015_exceeded += int(int(round(float(charter_school_2015_data[\"Students Tested\"][i]))) / int(round(float(charter_school_2015_data[\"Percentage Standard Exceeded\"][i]))))\n",
    "    except:\n",
    "        pass\n",
    "    \n",
    "null_hypothesis = \"public_school_standard_exceeded=charter_school_standard_met\"\n",
    "alt_hypothesis = \"public_school_standard_exceeded>charter_school_standard_met\""
   ]
  },
  {
   "cell_type": "code",
   "execution_count": 28,
   "metadata": {},
   "outputs": [
    {
     "data": {
      "text/plain": [
       "(14.402436244568818, 2.4975604592001497e-47)"
      ]
     },
     "execution_count": 28,
     "metadata": {},
     "output_type": "execute_result"
    }
   ],
   "source": [
    "ztest_exam = sm.stats.proportions_ztest([public_school_standard_2015_exceeded, charter_school_standard_2015_exceeded], [public_school_students_tested_2015, charter_school_students_tested_2015], alternative='larger')\n",
    "ztest_exam"
   ]
  },
  {
   "cell_type": "code",
   "execution_count": 29,
   "metadata": {},
   "outputs": [
    {
     "name": "stdout",
     "output_type": "stream",
     "text": [
      "567231\n",
      "622342\n",
      "55111\n",
      "0.0885542033158617\n"
     ]
    }
   ],
   "source": [
    "print(charter_school_students_tested_2015)\n",
    "print(charter_school_students_tested)\n",
    "change_charter = charter_school_students_tested - charter_school_students_tested_2015\n",
    "print(change_charter)\n",
    "print(change_charter / charter_school_students_tested)"
   ]
  },
  {
   "cell_type": "code",
   "execution_count": 30,
   "metadata": {},
   "outputs": [
    {
     "name": "stdout",
     "output_type": "stream",
     "text": [
      "5644490\n",
      "5717006\n",
      "72516\n",
      "0.012684261657238072\n"
     ]
    }
   ],
   "source": [
    "print(public_school_students_tested_2015)\n",
    "print(public_school_students_tested)\n",
    "change_public = public_school_students_tested - public_school_students_tested_2015\n",
    "print(change_public)\n",
    "print(change_public / public_school_students_tested)"
   ]
  },
  {
   "cell_type": "code",
   "execution_count": 34,
   "metadata": {},
   "outputs": [
    {
     "data": {
      "image/png": "[encoded data removed]",
      "text/plain": [
       "<Figure size 432x288 with 2 Axes>"
      ]
     },
     "metadata": {},
     "output_type": "display_data"
    }
   ],
   "source": [
    "#english graph\n",
    "names_english = [\"Public School\", \"Charter School\"]\n",
    "x_pos_english = np.arange(len(names_english))\n",
    "CTEs_english = [public_school_english_mean, charter_school_english_mean]\n",
    "error_english = [np.std(public_school_english[\"Mean Scale Score\"].astype(float)), np.std(charter_school_english[\"Mean Scale Score\"].astype(float))]\n",
    "\n",
    "#math graph\n",
    "names_math = [\"Public School\", \"Charter School\"]\n",
    "x_pos_math = np.arange(len(names_math))\n",
    "CTEs_math = [public_school_math_mean, charter_school_math_mean]\n",
    "error_math = [np.std(public_school_math[\"Mean Scale Score\"].astype(float)), np.std(charter_school_math[\"Mean Scale Score\"].astype(float))]\n",
    "\n",
    "fig, ax = plt.subplots(nrows=1, ncols=2, sharey=True)\n",
    "ax[0].bar(x_pos_english, CTEs_english, yerr=error_english, align='center', alpha=0.5, ecolor='black', capsize=10)\n",
    "ax[0].set_ylabel('Mean Scale Score')\n",
    "ax[0].set_ylim(2300,2600)\n",
    "ax[0].set_xticks(x_pos_english)\n",
    "ax[0].set_xticklabels(names_english)\n",
    "ax[0].set_title('CAASPP SBAC: English')\n",
    "ax[0].yaxis.grid(True)\n",
    "ax[1].bar(x_pos_math, CTEs_math, yerr=error_math, align='center', alpha=0.5, ecolor='black', capsize=10)\n",
    "ax[1].set_ylabel('Mean Scale Score')\n",
    "ax[1].set_ylim(2300,2600)\n",
    "ax[1].set_xticks(x_pos_math)\n",
    "ax[1].set_xticklabels(names_math)\n",
    "ax[1].set_title('CAASPP SBAC: Math')\n",
    "ax[1].yaxis.grid(True)\n"
   ]
  },
  {
   "cell_type": "code",
   "execution_count": null,
   "metadata": {},
   "outputs": [],
   "source": []
  }
 ],
 "metadata": {
  "kernelspec": {
   "display_name": "Python 3",
   "language": "python",
   "name": "python3"
  },
  "language_info": {
   "codemirror_mode": {
    "name": "ipython",
    "version": 3
   },
   "file_extension": ".py",
   "mimetype": "text/x-python",
   "name": "python",
   "nbconvert_exporter": "python",
   "pygments_lexer": "ipython3",
   "version": "3.6.5"
  }
 },
 "nbformat": 4,
 "nbformat_minor": 2
}
